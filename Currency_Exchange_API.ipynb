{
 "cells": [
  {
   "cell_type": "code",
   "execution_count": 96,
   "metadata": {},
   "outputs": [],
   "source": [
    "import requests\n",
    "import json\n",
    "import matplotlib.pyplot as plt"
   ]
  },
  {
   "cell_type": "markdown",
   "metadata": {},
   "source": [
    "### Setting base url with api key"
   ]
  },
  {
   "cell_type": "code",
   "execution_count": 139,
   "metadata": {},
   "outputs": [],
   "source": [
    "base_url = \"https://api.fastforex.io\"\n",
    "api_key = \"?api_key=f5eb57e369-348b601984-qxtu7b\""
   ]
  },
  {
   "cell_type": "code",
   "execution_count": 142,
   "metadata": {},
   "outputs": [
    {
     "data": {
      "text/plain": [
       "'https://api.fastforex.io/currencies?api_key=f5eb57e369-348b601984-qxtu7b'"
      ]
     },
     "execution_count": 142,
     "metadata": {},
     "output_type": "execute_result"
    }
   ],
   "source": [
    "currencies_url = base_url + \"/currencies\" +api_key \n",
    "currencies_url"
   ]
  },
  {
   "cell_type": "markdown",
   "metadata": {},
   "source": [
    "### Using get request to get all currencies"
   ]
  },
  {
   "cell_type": "code",
   "execution_count": 147,
   "metadata": {},
   "outputs": [
    {
     "name": "stdout",
     "output_type": "stream",
     "text": [
      "{\n",
      "    \"currencies\": {\n",
      "        \"AED\": \"United Arab Emirates Dirham\",\n",
      "        \"AFN\": \"Afghan Afghani\",\n",
      "        \"ALL\": \"Albanian Lek\",\n",
      "        \"AMD\": \"Armenian Dram\",\n",
      "        \"ANG\": \"Dutch Guilders\",\n",
      "        \"AOA\": \"Angolan Kwanza\",\n",
      "        \"ARS\": \"Argentine Peso\",\n",
      "        \"AUD\": \"Australian Dollar\",\n",
      "        \"AWG\": \"Aruban Florin\",\n",
      "        \"AZN\": \"Azerbaijani Manat\",\n",
      "        \"BAM\": \"Bosnia-Herzegovina Convertible Mark\",\n",
      "        \"BBD\": \"Barbadian Dollar\",\n",
      "        \"BDT\": \"Bangladeshi Taka\",\n",
      "        \"BGN\": \"Bulgarian Lev\",\n",
      "        \"BHD\": \"Bahraini Dinar\",\n",
      "        \"BIF\": \"Burundian Franc\",\n",
      "        \"BMD\": \"Bermudian Dollar\",\n",
      "        \"BND\": \"Bruneian Dollar\",\n",
      "        \"BOB\": \"Bolivian Boliviano\",\n",
      "        \"BRL\": \"Brazilian Real\",\n",
      "        \"BSD\": \"Bahamian Dollar\",\n",
      "        \"BTN\": \"Bhutanese Ngultrum\",\n",
      "        \"BWP\": \"Botswanan Pula\",\n",
      "        \"BZD\": \"Belizean Dollar\",\n",
      "        \"CAD\": \"Canadian Dollar\",\n",
      "        \"CDF\": \"Congolese Franc\",\n",
      "        \"CHF\": \"Swiss Franc\",\n",
      "        \"CLF\": \"Chilean Unit of Account UF\",\n",
      "        \"CLP\": \"Chilean Peso\",\n",
      "        \"CNH\": \"Chinese Yuan Offshore\",\n",
      "        \"CNY\": \"Chinese Yuan\",\n",
      "        \"COP\": \"Colombian Peso\",\n",
      "        \"CUP\": \"Cuban Peso\",\n",
      "        \"CVE\": \"Cape Verdean Escudo\",\n",
      "        \"CZK\": \"Czech Republic Koruna\",\n",
      "        \"DJF\": \"Djiboutian Franc\",\n",
      "        \"DKK\": \"Danish Krone\",\n",
      "        \"DOP\": \"Dominican Peso\",\n",
      "        \"DZD\": \"Algerian Dinar\",\n",
      "        \"EGP\": \"Egyptian Pound\",\n",
      "        \"ERN\": \"Eritrean Nakfa\",\n",
      "        \"ETB\": \"Ethiopian Birr\",\n",
      "        \"EUR\": \"Euro\",\n",
      "        \"FJD\": \"Fijian Dollar\",\n",
      "        \"FKP\": \"Falkland Islands Pound\",\n",
      "        \"GBP\": \"British Pound Sterling\",\n",
      "        \"GEL\": \"Georgian Lari\",\n",
      "        \"GHS\": \"Ghanaian Cedi\",\n",
      "        \"GIP\": \"Gibraltar Pound\",\n",
      "        \"GMD\": \"Gambian Dalasi\",\n",
      "        \"GNF\": \"Guinean Franc\",\n",
      "        \"GTQ\": \"Guatemalan Quetzal\",\n",
      "        \"GYD\": \"Guyanaese Dollar\",\n",
      "        \"HKD\": \"Hong Kong Dollar\",\n",
      "        \"HNL\": \"Honduran Lempira\",\n",
      "        \"HRK\": \"Croatian Kuna\",\n",
      "        \"HTG\": \"Haitian Gourde\",\n",
      "        \"HUF\": \"Hungarian Forint\",\n",
      "        \"IDR\": \"Indonesian Rupiah\",\n",
      "        \"ILS\": \"Israeli New Sheqel\",\n",
      "        \"INR\": \"Indian Rupee\",\n",
      "        \"IQD\": \"Iraqi Dinar\",\n",
      "        \"IRR\": \"Iranian Rial\",\n",
      "        \"ISK\": \"Icelandic Krona\",\n",
      "        \"JMD\": \"Jamaican Dollar\",\n",
      "        \"JOD\": \"Jordanian Dinar\",\n",
      "        \"JPY\": \"Japanese Yen\",\n",
      "        \"KES\": \"Kenyan Shilling\",\n",
      "        \"KGS\": \"Kyrgystani Som\",\n",
      "        \"KHR\": \"Cambodian Riel\",\n",
      "        \"KMF\": \"Comorian Franc\",\n",
      "        \"KPW\": \"North Korean Won\",\n",
      "        \"KRW\": \"South Korean Won\",\n",
      "        \"KWD\": \"Kuwaiti Dinar\",\n",
      "        \"KYD\": \"Caymanian Dollar\",\n",
      "        \"KZT\": \"Kazakhstani Tenge\",\n",
      "        \"LAK\": \"Laotian Kip\",\n",
      "        \"LBP\": \"Lebanese Pound\",\n",
      "        \"LKR\": \"Sri Lankan Rupee\",\n",
      "        \"LRD\": \"Liberian Dollar\",\n",
      "        \"LSL\": \"Basotho Maloti\",\n",
      "        \"LYD\": \"Libyan Dinar\",\n",
      "        \"MAD\": \"Moroccan Dirham\",\n",
      "        \"MDL\": \"Moldovan Leu\",\n",
      "        \"MGA\": \"Malagasy Ariary\",\n",
      "        \"MKD\": \"Macedonian Denar\",\n",
      "        \"MMK\": \"Myanma Kyat\",\n",
      "        \"MNT\": \"Mongolian Tugrik\",\n",
      "        \"MOP\": \"Macanese Pataca\",\n",
      "        \"MRU\": \"Mauritanian Ouguiya (1973\\u20132017)\",\n",
      "        \"MUR\": \"Mauritian Rupee\",\n",
      "        \"MVR\": \"Maldivian Rufiyaa\",\n",
      "        \"MWK\": \"Malawian Kwacha\",\n",
      "        \"MXN\": \"Mexican Peso\",\n",
      "        \"MYR\": \"Malaysian Ringgit\",\n",
      "        \"MZN\": \"Mozambican Metical\",\n",
      "        \"NAD\": \"Namibian Dollar\",\n",
      "        \"NGN\": \"Nigerian Naira\",\n",
      "        \"NOK\": \"Norwegian Krone\",\n",
      "        \"NPR\": \"Nepalese Rupee\",\n",
      "        \"NZD\": \"New Zealand Dollar\",\n",
      "        \"OMR\": \"Omani Rial\",\n",
      "        \"PAB\": \"Panamanian Balboa\",\n",
      "        \"PEN\": \"Peruvian Nuevo Sol\",\n",
      "        \"PGK\": \"Papua New Guinean Kina\",\n",
      "        \"PHP\": \"Philippine Peso\",\n",
      "        \"PKR\": \"Pakistani Rupee\",\n",
      "        \"PLN\": \"Polish Zloty\",\n",
      "        \"PYG\": \"Paraguayan Guarani\",\n",
      "        \"QAR\": \"Qatari Rial\",\n",
      "        \"RON\": \"Romanian Leu\",\n",
      "        \"RSD\": \"Serbian Dinar\",\n",
      "        \"RUB\": \"Russian Ruble\",\n",
      "        \"RWF\": \"Rwandan Franc\",\n",
      "        \"SAR\": \"Saudi Arabian Riyal\",\n",
      "        \"SCR\": \"Seychellois Rupee\",\n",
      "        \"SDG\": \"Sudanese Pound\",\n",
      "        \"SEK\": \"Swedish Krona\",\n",
      "        \"SGD\": \"Singapore Dollar\",\n",
      "        \"SHP\": \"Saint Helena Pound\",\n",
      "        \"SLL\": \"Sierra Leonean Leone\",\n",
      "        \"SOS\": \"Somali Shilling\",\n",
      "        \"SRD\": \"Surinamese Dollar\",\n",
      "        \"SYP\": \"Syrian Pound\",\n",
      "        \"SZL\": \"Swazi Emalangeni\",\n",
      "        \"THB\": \"Thai Baht\",\n",
      "        \"TJS\": \"Tajikistani Somoni\",\n",
      "        \"TMT\": \"Turkmenistani Manat\",\n",
      "        \"TND\": \"Tunisian Dinar\",\n",
      "        \"TOP\": \"Tongan Pa'anga\",\n",
      "        \"TRY\": \"Turkish Lira\",\n",
      "        \"TTD\": \"Trinidad and Tobago Dollar\",\n",
      "        \"TWD\": \"Taiwan New Dollar\",\n",
      "        \"TZS\": \"Tanzanian Shilling\",\n",
      "        \"UAH\": \"Ukrainian Hryvnia\",\n",
      "        \"UGX\": \"Ugandan Shilling\",\n",
      "        \"USD\": \"United States Dollar\",\n",
      "        \"UYU\": \"Uruguayan Peso\",\n",
      "        \"UZS\": \"Uzbekistan Som\",\n",
      "        \"VND\": \"Vietnamese Dong\",\n",
      "        \"VUV\": \"Ni-Vanuatu Vatu\",\n",
      "        \"WST\": \"Samoan Tala\",\n",
      "        \"XAF\": \"CFA Franc BEAC\",\n",
      "        \"XCD\": \"East Caribbean Dollar\",\n",
      "        \"XDR\": \"Special Drawing Rights\",\n",
      "        \"XOF\": \"CFA Franc BCEAO\",\n",
      "        \"XPF\": \"CFP Franc\",\n",
      "        \"YER\": \"Yemeni Rial\",\n",
      "        \"ZAR\": \"South African Rand\",\n",
      "        \"ZMW\": \"Zambian Kwacha\"\n",
      "    },\n",
      "    \"ms\": 3\n",
      "}\n"
     ]
    }
   ],
   "source": [
    "response = requests.get(currencies_url).json()\n",
    "print(json.dumps(response, indent = 4))"
   ]
  },
  {
   "cell_type": "code",
   "execution_count": 148,
   "metadata": {
    "scrolled": true
   },
   "outputs": [
    {
     "data": {
      "text/plain": [
       "dict_keys(['currencies', 'ms'])"
      ]
     },
     "execution_count": 148,
     "metadata": {},
     "output_type": "execute_result"
    }
   ],
   "source": [
    "response.keys()"
   ]
  },
  {
   "cell_type": "markdown",
   "metadata": {},
   "source": [
    "### Getting the values of currencies with base EUR"
   ]
  },
  {
   "cell_type": "code",
   "execution_count": 157,
   "metadata": {},
   "outputs": [],
   "source": [
    "fetch_url = base_url + \"/fetch-multi\" + api_key \\\n",
    "+ \"&from=EUR\" + \"&to=USD,GBP,AUD\""
   ]
  },
  {
   "cell_type": "code",
   "execution_count": 158,
   "metadata": {
    "scrolled": true
   },
   "outputs": [
    {
     "name": "stdout",
     "output_type": "stream",
     "text": [
      "{\n",
      "    \"base\": \"EUR\",\n",
      "    \"results\": {\n",
      "        \"USD\": 1.17993,\n",
      "        \"GBP\": 0.85114,\n",
      "        \"AUD\": 1.60113\n",
      "    },\n",
      "    \"updated\": \"2021-08-14 11:33:41\",\n",
      "    \"ms\": 7\n",
      "}\n"
     ]
    }
   ],
   "source": [
    "response = requests.get(fetch_url).json()\n",
    "print(json.dumps(response, indent = 4))"
   ]
  },
  {
   "cell_type": "code",
   "execution_count": 161,
   "metadata": {},
   "outputs": [
    {
     "data": {
      "text/plain": [
       "{'USD': 1.17993, 'GBP': 0.85114, 'AUD': 1.60113}"
      ]
     },
     "execution_count": 161,
     "metadata": {},
     "output_type": "execute_result"
    }
   ],
   "source": [
    "response['results']"
   ]
  },
  {
   "cell_type": "markdown",
   "metadata": {},
   "source": [
    "### Comparing USD, GBP and AUD values with EUR (Lower is higher)"
   ]
  },
  {
   "cell_type": "code",
   "execution_count": 162,
   "metadata": {},
   "outputs": [
    {
     "data": {
      "text/plain": [
       "<BarContainer object of 3 artists>"
      ]
     },
     "execution_count": 162,
     "metadata": {},
     "output_type": "execute_result"
    },
    {
     "data": {
      "image/png": "[encoded data removed]",
      "text/plain": [
       "<Figure size 432x288 with 1 Axes>"
      ]
     },
     "metadata": {
      "needs_background": "light"
     },
     "output_type": "display_data"
    }
   ],
   "source": [
    "plt.bar(response['results'].keys(),\\\n",
    "        response['results'].values())"
   ]
  },
  {
   "cell_type": "markdown",
   "metadata": {},
   "source": [
    "# Simple Currency Convertor Application"
   ]
  },
  {
   "cell_type": "code",
   "execution_count": 170,
   "metadata": {},
   "outputs": [
    {
     "name": "stdout",
     "output_type": "stream",
     "text": [
      "Convert from (currency):USD\n",
      "Convert to (currency):EUR\n",
      "How much USD do you want to convert?233.45\n",
      "$233.45 is €197.85 at rate 0.84751\n"
     ]
    }
   ],
   "source": [
    "base = input(\"Convert from (currency):\")\n",
    "curr = input(\"Convert to (currency):\")\n",
    "amt = input(\"How much {} do you want to convert?\".format(base))\n",
    "\n",
    "convert_url = base_url + \"/convert\" + api_key + \"&from=\"+ base + \"&to=\" + curr + \"&amount=\" + amt\n",
    "\n",
    "response = requests.get(convert_url)\n",
    "\n",
    "if(response.ok is False):\n",
    "    print(\"Error: {}\".format(response.status_code))\n",
    "    print(response.json())\n",
    "else:\n",
    "    print(\"${} is €{} at rate {}\".format(response.json()['amount'],response.json()['result'][curr],\\\n",
    "                                         response.json()['result']['rate']))\n",
    "    "
   ]
  },
  {
   "cell_type": "code",
   "execution_count": null,
   "metadata": {},
   "outputs": [],
   "source": []
  }
 ],
 "metadata": {
  "kernelspec": {
   "display_name": "Python 3",
   "language": "python",
   "name": "python3"
  },
  "language_info": {
   "codemirror_mode": {
    "name": "ipython",
    "version": 3
   },
   "file_extension": ".py",
   "mimetype": "text/x-python",
   "name": "python",
   "nbconvert_exporter": "python",
   "pygments_lexer": "ipython3",
   "version": "3.8.3"
  }
 },
 "nbformat": 4,
 "nbformat_minor": 4
}
